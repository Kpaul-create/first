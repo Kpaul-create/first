{
  "nbformat": 4,
  "nbformat_minor": 0,
  "metadata": {
    "colab": {
      "provenance": [],
      "toc_visible": true,
      "authorship_tag": "ABX9TyMd+q1EF1z9wt4dhmTlgW42",
      "include_colab_link": true
    },
    "kernelspec": {
      "name": "python3",
      "display_name": "Python 3"
    },
    "language_info": {
      "name": "python"
    }
  },
  "cells": [
    {
      "cell_type": "markdown",
      "metadata": {
        "id": "view-in-github",
        "colab_type": "text"
      },
      "source": [
        "<a href=\"https://colab.research.google.com/github/Kpaul-create/first/blob/main/Tensorflow_basics.ipynb\" target=\"_parent\"><img src=\"https://colab.research.google.com/assets/colab-badge.svg\" alt=\"Open In Colab\"/></a>"
      ]
    },
    {
      "cell_type": "markdown",
      "source": [
        "# Tensorflow Basics"
      ],
      "metadata": {
        "id": "cQbkXNRFpto4"
      }
    },
    {
      "cell_type": "markdown",
      "source": [
        "## Importing TENSORFLOW"
      ],
      "metadata": {
        "id": "4t7HLy1_phsZ"
      }
    },
    {
      "cell_type": "markdown",
      "source": [
        "### basic functions"
      ],
      "metadata": {
        "id": "rHK166bOt3O4"
      }
    },
    {
      "cell_type": "code",
      "execution_count": 1,
      "metadata": {
        "colab": {
          "base_uri": "https://localhost:8080/"
        },
        "id": "dQZxiig5pdiB",
        "outputId": "47f88dd5-1a72-4cc3-812e-83e1596402ce"
      },
      "outputs": [
        {
          "output_type": "stream",
          "name": "stdout",
          "text": [
            "tf.Tensor([[8.]], shape=(1, 1), dtype=float64)\n",
            "tf.Tensor([1 3 5 7 9], shape=(5,), dtype=int32)\n",
            "tf.Tensor(\n",
            "[[[0.08051014 0.626475  ]\n",
            "  [0.54755616 0.05322635]\n",
            "  [0.07542455 0.30198812]\n",
            "  [0.36096656 0.0263747 ]]], shape=(1, 4, 2), dtype=float32)\n",
            "tf.Tensor(\n",
            "[[ 1.2846276   0.36405587  0.59159046]\n",
            " [-2.1281984   0.8645758  -1.8236996 ]\n",
            " [-1.0900611  -0.85993135  1.2526    ]], shape=(3, 3), dtype=float32)\n",
            "tf.Tensor(7, shape=(), dtype=int32)\n",
            "tf.Tensor([[8.]], shape=(1, 1), dtype=float32)\n",
            "tf.Tensor(\n",
            "[[1 2 3]\n",
            " [4 5 6]], shape=(2, 3), dtype=int32)\n"
          ]
        }
      ],
      "source": [
        "import tensorflow as tf\n",
        "\n",
        "#importing a tensor\n",
        "X=tf.constant(7)\n",
        "y=tf.constant(8,shape=(1,1),dtype=tf.float32)\n",
        "z=tf.constant([[1,2,3],[4,5,6]])\n",
        "k=tf.random.normal((3,3), mean=0, stddev=1)\n",
        "j=tf.ones((2,3))\n",
        "q=tf.range(start=1,limit=10,delta=2)\n",
        "d=tf.eye(2,3)\n",
        "p=tf.random.uniform((1,4,2),minval=0,maxval=1)\n",
        "u=tf.cast(y,dtype=tf.float64)#we can also use tf.float()\n",
        "\n",
        "print(u)\n",
        "print(q)\n",
        "print(p)\n",
        "print(k)\n",
        "print(X)\n",
        "print(y)\n",
        "print(z)"
      ]
    },
    {
      "cell_type": "markdown",
      "source": [
        "### Mathematical opertaions"
      ],
      "metadata": {
        "id": "bJhwVCSkt-KX"
      }
    },
    {
      "cell_type": "code",
      "source": [
        "x=tf.constant([1,2,3,4,5])\n",
        "y=tf.constant([6,7,8,9,10])\n",
        "print(tf.multiply(x,y))#or x*y\n",
        "print(tf.add(x,y))\n",
        "print(tf.subtract(x,y))\n",
        "print(tf.divide(x,y))\n",
        "\n",
        "k=tf.tensordot(x,y,axes=1)\n",
        "print(k)\n",
        "#or\n",
        "print(tf.reduce_sum(x*y,axis=0))\n",
        "\n",
        "print(x**5)\n",
        "z=tf.random.normal((1,1),mean=5,stddev=10)\n",
        "print(z)\n",
        "print(tf.reduce_sum(z,axis=0))\n",
        "print(tf.reduce_sum(z,axis=1))\n",
        "#print(tf.matmul(x,y))\n",
        "#print(x@y)"
      ],
      "metadata": {
        "colab": {
          "base_uri": "https://localhost:8080/"
        },
        "id": "vYeNhxR8uDx_",
        "outputId": "3f42fc63-31e3-425a-ee8f-6d6323efb388"
      },
      "execution_count": 7,
      "outputs": [
        {
          "output_type": "stream",
          "name": "stdout",
          "text": [
            "tf.Tensor([ 6 14 24 36 50], shape=(5,), dtype=int32)\n",
            "tf.Tensor([ 7  9 11 13 15], shape=(5,), dtype=int32)\n",
            "tf.Tensor([-5 -5 -5 -5 -5], shape=(5,), dtype=int32)\n",
            "tf.Tensor([0.16666667 0.28571429 0.375      0.44444444 0.5       ], shape=(5,), dtype=float64)\n",
            "tf.Tensor(130, shape=(), dtype=int32)\n",
            "tf.Tensor(130, shape=(), dtype=int32)\n",
            "tf.Tensor([   1   32  243 1024 3125], shape=(5,), dtype=int32)\n",
            "tf.Tensor([[-1.7270098]], shape=(1, 1), dtype=float32)\n",
            "tf.Tensor([-1.7270098], shape=(1,), dtype=float32)\n",
            "tf.Tensor([-1.7270098], shape=(1,), dtype=float32)\n"
          ]
        }
      ]
    },
    {
      "cell_type": "markdown",
      "source": [
        "### indexing"
      ],
      "metadata": {
        "id": "bQufDrmbjZ8-"
      }
    },
    {
      "cell_type": "code",
      "source": [
        "x=tf.constant([0,1,1,2,3,1,2,3])\n",
        "print(x[:])\n",
        "print(x[1:])\n",
        "print(x[1:3])\n",
        "print(x[::2])\n",
        "print(x[::-1])\n",
        "indices=tf.constant([0,3])\n",
        "x_ind=tf.gather(x,indices)\n",
        "print(x_ind)\n",
        "x=tf.constant([[1,2],\n",
        "               [3,4],\n",
        "               [5,6]])\n",
        "print(x[0,:])\n",
        "print(x[0:2,:])"
      ],
      "metadata": {
        "colab": {
          "base_uri": "https://localhost:8080/"
        },
        "id": "YotU335yjf_3",
        "outputId": "7402ec84-09b6-46bc-99ac-1b28acaa6b67"
      },
      "execution_count": 9,
      "outputs": [
        {
          "output_type": "stream",
          "name": "stdout",
          "text": [
            "tf.Tensor([0 1 1 2 3 1 2 3], shape=(8,), dtype=int32)\n",
            "tf.Tensor([1 1 2 3 1 2 3], shape=(7,), dtype=int32)\n",
            "tf.Tensor([1 1], shape=(2,), dtype=int32)\n",
            "tf.Tensor([0 1 3 2], shape=(4,), dtype=int32)\n",
            "tf.Tensor([3 2 1 3 2 1 1 0], shape=(8,), dtype=int32)\n",
            "tf.Tensor([0 2], shape=(2,), dtype=int32)\n",
            "tf.Tensor([1 2], shape=(2,), dtype=int32)\n",
            "tf.Tensor(\n",
            "[[1 2]\n",
            " [3 4]], shape=(2, 2), dtype=int32)\n"
          ]
        }
      ]
    },
    {
      "cell_type": "markdown",
      "source": [
        "### Reshaping"
      ],
      "metadata": {
        "id": "4Dcs4gaJ12Jo"
      }
    },
    {
      "cell_type": "code",
      "source": [
        "x=tf.constant([0,1,1,2,3,1,2,3])\n",
        "#x=tf.reshape(x,(3,3))\n",
        "print(x)\n",
        "#print(tf.transpose(x,perm=[1,0]))"
      ],
      "metadata": {
        "colab": {
          "base_uri": "https://localhost:8080/"
        },
        "id": "Ctxo8Vqe16oG",
        "outputId": "0719ddb4-e533-4fbc-a9e7-08f01b6025db"
      },
      "execution_count": 13,
      "outputs": [
        {
          "output_type": "stream",
          "name": "stdout",
          "text": [
            "tf.Tensor([0 1 1 2 3 1 2 3], shape=(8,), dtype=int32)\n"
          ]
        }
      ]
    }
  ]
}