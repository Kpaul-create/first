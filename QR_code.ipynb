{
  "nbformat": 4,
  "nbformat_minor": 0,
  "metadata": {
    "colab": {
      "provenance": [],
      "authorship_tag": "ABX9TyP8VVm8+0jsm6LXRWBvZZbJ",
      "include_colab_link": true
    },
    "kernelspec": {
      "name": "python3",
      "display_name": "Python 3"
    },
    "language_info": {
      "name": "python"
    }
  },
  "cells": [
    {
      "cell_type": "markdown",
      "metadata": {
        "id": "view-in-github",
        "colab_type": "text"
      },
      "source": [
        "<a href=\"https://colab.research.google.com/github/Kpaul-create/first/blob/main/QR_code.ipynb\" target=\"_parent\"><img src=\"https://colab.research.google.com/assets/colab-badge.svg\" alt=\"Open In Colab\"/></a>"
      ]
    },
    {
      "cell_type": "markdown",
      "source": [
        "# QR Code"
      ],
      "metadata": {
        "id": "O71tXqsM_iQv"
      }
    },
    {
      "cell_type": "code",
      "execution_count": null,
      "metadata": {
        "colab": {
          "base_uri": "https://localhost:8080/",
          "height": 441
        },
        "id": "7LZ6oefg_OJ0",
        "outputId": "728fa816-182c-4114-f73a-d74ddff4c223"
      },
      "outputs": [
        {
          "output_type": "stream",
          "name": "stdout",
          "text": [
            "Requirement already satisfied: qrcode[pil] in /usr/local/lib/python3.10/dist-packages (8.0)\n",
            "Requirement already satisfied: pillow>=9.1.0 in /usr/local/lib/python3.10/dist-packages (from qrcode[pil]) (10.4.0)\n"
          ]
        },
        {
          "output_type": "display_data",
          "data": {
            "text/plain": [
              "<Figure size 640x480 with 1 Axes>"
            ],
            "image/png": "[encoded data removed]"
          },
          "metadata": {}
        },
        {
          "output_type": "display_data",
          "data": {
            "text/plain": [
              "<IPython.core.display.Javascript object>"
            ],
            "application/javascript": [
              "\n",
              "    async function download(id, filename, size) {\n",
              "      if (!google.colab.kernel.accessAllowed) {\n",
              "        return;\n",
              "      }\n",
              "      const div = document.createElement('div');\n",
              "      const label = document.createElement('label');\n",
              "      label.textContent = `Downloading \"${filename}\": `;\n",
              "      div.appendChild(label);\n",
              "      const progress = document.createElement('progress');\n",
              "      progress.max = size;\n",
              "      div.appendChild(progress);\n",
              "      document.body.appendChild(div);\n",
              "\n",
              "      const buffers = [];\n",
              "      let downloaded = 0;\n",
              "\n",
              "      const channel = await google.colab.kernel.comms.open(id);\n",
              "      // Send a message to notify the kernel that we're ready.\n",
              "      channel.send({})\n",
              "\n",
              "      for await (const message of channel.messages) {\n",
              "        // Send a message to notify the kernel that we're ready.\n",
              "        channel.send({})\n",
              "        if (message.buffers) {\n",
              "          for (const buffer of message.buffers) {\n",
              "            buffers.push(buffer);\n",
              "            downloaded += buffer.byteLength;\n",
              "            progress.value = downloaded;\n",
              "          }\n",
              "        }\n",
              "      }\n",
              "      const blob = new Blob(buffers, {type: 'application/binary'});\n",
              "      const a = document.createElement('a');\n",
              "      a.href = window.URL.createObjectURL(blob);\n",
              "      a.download = filename;\n",
              "      div.appendChild(a);\n",
              "      a.click();\n",
              "      div.remove();\n",
              "    }\n",
              "  "
            ]
          },
          "metadata": {}
        },
        {
          "output_type": "display_data",
          "data": {
            "text/plain": [
              "<IPython.core.display.Javascript object>"
            ],
            "application/javascript": [
              "download(\"download_cdf22a31-4519-4b2f-b360-234545fc119f\", \"qr_code.png\", 584)"
            ]
          },
          "metadata": {}
        }
      ],
      "source": [
        "# Install the qrcode library\n",
        "!pip install qrcode[pil]\n",
        "\n",
        "import qrcode\n",
        "import matplotlib.pyplot as plt\n",
        "\n",
        "# Function to create a QR code\n",
        "def create_qr_code(data, filename='qr_code.png'):\n",
        "    # Generate QR code\n",
        "    qr = qrcode.QRCode(\n",
        "        version=1,  # Controls the size of the QR Code\n",
        "        error_correction=qrcode.constants.ERROR_CORRECT_L,\n",
        "        box_size=10,\n",
        "        border=4,\n",
        "    )\n",
        "    qr.add_data(data)\n",
        "    qr.make(fit=True)\n",
        "\n",
        "    # Create an image from the QR Code instance\n",
        "    img = qr.make_image(fill_color=\"black\", back_color=\"white\")\n",
        "\n",
        "    # Save the image to a file\n",
        "    img.save(filename)\n",
        "\n",
        "    # Display the QR Code\n",
        "    plt.imshow(img, cmap='gray')\n",
        "    plt.axis('off')  # Turn off axis numbers and ticks\n",
        "    plt.show()\n",
        "\n",
        "    return filename\n",
        "\n",
        "# Example usage\n",
        "data_to_encode = 'https://www.youtube.com'  # Replace with your URL or text\n",
        "qr_filename = create_qr_code(data_to_encode)\n",
        "\n",
        "# Download the QR Code image\n",
        "from google.colab import files\n",
        "files.download(qr_filename)\n"
      ]
    }
  ]
}